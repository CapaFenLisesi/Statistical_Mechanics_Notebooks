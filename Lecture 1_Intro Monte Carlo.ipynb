{
 "cells": [
  {
   "cell_type": "code",
   "execution_count": 11,
   "metadata": {
    "collapsed": false
   },
   "outputs": [
    {
     "data": {
      "text/plain": [
       "3.141592653589793"
      ]
     },
     "execution_count": 11,
     "metadata": {},
     "output_type": "execute_result"
    }
   ],
   "source": [
    "import math\n",
    "math.pi"
   ]
  },
  {
   "cell_type": "markdown",
   "metadata": {},
   "source": [
    "## direct_pi.py"
   ]
  },
  {
   "cell_type": "code",
   "execution_count": 2,
   "metadata": {
    "collapsed": false
   },
   "outputs": [
    {
     "name": "stdout",
     "output_type": "stream",
     "text": [
      "3.148\n"
     ]
    }
   ],
   "source": [
    "import random\n",
    "\n",
    "n_trials = 4000\n",
    "n_hits = 0\n",
    "for iter in range(n_trials):\n",
    "    x, y = random.uniform(-1.0, 1.0), random.uniform(-1.0, 1.0)\n",
    "    if x**2 + y**2 < 1.0: \n",
    "        n_hits += 1\n",
    "print 4.0 * n_hits / float(n_trials)"
   ]
  },
  {
   "cell_type": "markdown",
   "metadata": {},
   "source": [
    "## direct_pi_multirun.py"
   ]
  },
  {
   "cell_type": "code",
   "execution_count": 12,
   "metadata": {
    "collapsed": false
   },
   "outputs": [],
   "source": [
    "import random\n",
    " \n",
    "def direct_pi(N):\n",
    "    n_hits = 0\n",
    "    for i in range(N):\n",
    "        x, y = random.uniform(-1.0, 1.0), random.uniform(-1.0, 1.0)\n",
    "        if x ** 2 + y ** 2 < 1.0:\n",
    "            n_hits += 1\n",
    "    return n_hits\n",
    " \n",
    "pi=[]\n",
    "n_runs = 1000\n",
    "n_trials = 4000\n",
    "for run in range(n_runs):\n",
    "    pi.append(4.0 * direct_pi(n_trials) / float(n_trials))"
   ]
  },
  {
   "cell_type": "code",
   "execution_count": 13,
   "metadata": {
    "collapsed": false
   },
   "outputs": [
    {
     "data": {
      "text/plain": [
       "[3.146, 3.127, 3.109, 3.091, 3.161]"
      ]
     },
     "execution_count": 13,
     "metadata": {},
     "output_type": "execute_result"
    }
   ],
   "source": [
    "pi[:5]"
   ]
  },
  {
   "cell_type": "code",
   "execution_count": 14,
   "metadata": {
    "collapsed": false
   },
   "outputs": [
    {
     "data": {
      "text/plain": [
       "3.141674999999999"
      ]
     },
     "execution_count": 14,
     "metadata": {},
     "output_type": "execute_result"
    }
   ],
   "source": [
    "sum(pi)/len(pi)"
   ]
  },
  {
   "cell_type": "markdown",
   "metadata": {},
   "source": [
    "## markov_pi.py"
   ]
  },
  {
   "cell_type": "code",
   "execution_count": 15,
   "metadata": {
    "collapsed": false
   },
   "outputs": [
    {
     "name": "stdout",
     "output_type": "stream",
     "text": [
      "3.032\n"
     ]
    }
   ],
   "source": [
    "import random\n",
    "\n",
    "x, y = 1.0, 1.0\n",
    "delta = 0.1\n",
    "n_trials = 4000\n",
    "n_hits = 0\n",
    "for i in range(n_trials):\n",
    "    del_x, del_y = random.uniform(-delta, delta), random.uniform(-delta, delta)\n",
    "    if abs(x + del_x) < 1.0 and abs(y + del_y) < 1.0:\n",
    "        x, y = x + del_x, y + del_y\n",
    "    if x**2 + y**2 < 1.0: n_hits += 1\n",
    "print 4.0 * n_hits / float(n_trials)"
   ]
  },
  {
   "cell_type": "markdown",
   "metadata": {},
   "source": [
    "## markov_pi_multirun.py"
   ]
  },
  {
   "cell_type": "code",
   "execution_count": 17,
   "metadata": {
    "collapsed": false
   },
   "outputs": [
    {
     "data": {
      "text/plain": [
       "[2.888, 3.138, 3.049, 3.255, 3.335, 3.1, 3.206, 3.124, 3.259, 3.378]"
      ]
     },
     "execution_count": 17,
     "metadata": {},
     "output_type": "execute_result"
    }
   ],
   "source": [
    "import random\n",
    "\n",
    "def markov_pi(N, delta): \n",
    "    x, y = 1.0, 1.0\n",
    "    n_hits = 0\n",
    "    for i in range(N):\n",
    "        del_x, del_y = random.uniform(-delta, delta), random.uniform(-delta, delta)\n",
    "        if abs(x + del_x) < 1.0 and abs(y + del_y) < 1.0:\n",
    "            x, y = x + del_x, y + del_y\n",
    "        if x**2 + y**2 < 1.0: n_hits += 1\n",
    "    return n_hits\n",
    "\n",
    "pi=[]\n",
    "n_runs = 1000\n",
    "n_trials = 4000\n",
    "delta = 0.1\n",
    "for run in range(n_runs):\n",
    "    pi.append( 4.0 * markov_pi(n_trials, delta) / float(n_trials) )\n",
    "    \n",
    "pi[:10]"
   ]
  },
  {
   "cell_type": "markdown",
   "metadata": {},
   "source": [
    "## pebble_basic.py"
   ]
  },
  {
   "cell_type": "code",
   "execution_count": 19,
   "metadata": {
    "collapsed": false
   },
   "outputs": [
    {
     "name": "stdout",
     "output_type": "stream",
     "text": [
      "8\n",
      "8\n",
      "5\n",
      "8\n",
      "8\n"
     ]
    }
   ],
   "source": [
    "import random\n",
    "\n",
    "neighbor =  [[1, 3, 0, 0], [2, 4, 0, 1], [2, 5, 1, 2],\n",
    "             [4, 6, 3, 0], [5, 7, 3, 1], [5, 8, 4, 2],\n",
    "             [7, 6, 6, 3], [8, 7, 6, 4], [8, 8, 7, 5]]\n",
    "t_max = 4\n",
    "site = 8\n",
    "t = 0\n",
    "print site\n",
    "while t < t_max:\n",
    "    t += 1\n",
    "    site = neighbor[site][random.randint(0, 3)]\n",
    "    print site"
   ]
  },
  {
   "cell_type": "markdown",
   "metadata": {},
   "source": [
    "## pebble_basic_inhomogeneous.py"
   ]
  },
  {
   "cell_type": "code",
   "execution_count": null,
   "metadata": {
    "collapsed": true
   },
   "outputs": [],
   "source": [
    "import random\n",
    "\n",
    "histo = [0, 0, 0, 0, 0, 0, 0, 0, 0]\n",
    "neighbor =  [[1, 3, 0, 0], [2, 4, 0, 1], [2, 5, 1, 2],\n",
    "             [4, 6, 3, 0], [5, 7, 3, 1], [5, 8, 4, 2],\n",
    "             [7, 6, 6, 3], [8, 7, 6, 4], [8, 8, 7, 5]]\n",
    "weight = [3.0, 0.5, 1.0, 0.5, 1.0, 0.5, 2.0, 0.5, 1.0]\n",
    "pos = 8\n",
    "n_iter = 1000000\n",
    "for iter in range(n_iter):\n",
    "    new_pos = neighbor[pos][random.randint(0, 3)]\n",
    "    if random.random() < weight[new_pos] / weight[pos]:\n",
    "        pos = new_pos\n",
    "    histo[pos] += 1 \n",
    "\n",
    "norm = sum(weight)\n",
    "print 'comparison:  weight, histogram'\n",
    "for k in range(9): \n",
    "    print 'site: ', k,' weight: ', weight[k], ' histo: ', norm * histo[k] / float(n_iter)"
   ]
  },
  {
   "cell_type": "code",
   "execution_count": 1,
   "metadata": {
    "collapsed": false
   },
   "outputs": [
    {
     "name": "stdout",
     "output_type": "stream",
     "text": [
      "Initialized empty Git repository in /home/restrepo/texfile/cursos/FisicaEstadisticaAvanzada/prog/Jupyter_notebooks/Krauth Statistical Mechanics Algorithms and Computations/.git/\n"
     ]
    }
   ],
   "source": [
    "%%bash\n",
    "#git init "
   ]
  },
  {
   "cell_type": "code",
   "execution_count": null,
   "metadata": {
    "collapsed": true
   },
   "outputs": [],
   "source": []
  }
 ],
 "metadata": {
  "kernelspec": {
   "display_name": "Python 2",
   "language": "python",
   "name": "python2"
  },
  "language_info": {
   "codemirror_mode": {
    "name": "ipython",
    "version": 2
   },
   "file_extension": ".py",
   "mimetype": "text/x-python",
   "name": "python",
   "nbconvert_exporter": "python",
   "pygments_lexer": "ipython2",
   "version": "2.7.9"
  }
 },
 "nbformat": 4,
 "nbformat_minor": 0
}
